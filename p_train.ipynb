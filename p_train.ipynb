{
 "cells": [
  {
   "cell_type": "code",
   "execution_count": 3,
   "metadata": {},
   "outputs": [],
   "source": [
    "import numpy as np\n",
    "import pandas as pd \n",
    "import cv2 as cv"
   ]
  },
  {
   "cell_type": "code",
   "execution_count": 4,
   "metadata": {},
   "outputs": [
    {
     "name": "stdout",
     "output_type": "stream",
     "text": [
      "      Unnamed: 0       State  Total_Expenses  Sales  Profit   Market  Trade  \\\n",
      "0              0  California            63.0  109.0  -131.0     West     40   \n",
      "1              1  California            55.0  201.0    88.0     West     24   \n",
      "2              2  California           700.0  289.0    25.0     West    109   \n",
      "3              3  California           113.0  576.0   216.0     West     81   \n",
      "4              4  California            37.0  247.0   148.0     West     26   \n",
      "...          ...         ...             ...    ...     ...      ...    ...   \n",
      "4224        4236   Wisconsin            34.0   90.0    20.0  Central     11   \n",
      "4225        4237   Wisconsin            36.0  113.0    31.0  Central     14   \n",
      "4226        4238   Wisconsin            86.0  150.0     1.0  Central     57   \n",
      "4227        4239   Wisconsin            79.0  131.0    -3.0  Central     49   \n",
      "4228        4240   Wisconsin            87.0  165.0     4.0  Central     58   \n",
      "\n",
      "     Product_Type  Inventory     Type  New_Column  \n",
      "0          Coffee     2947.0  Regular       172.0  \n",
      "1             Tea      659.0  Regular       256.0  \n",
      "2        Espresso      788.0  Regular       989.0  \n",
      "3        Espresso     1744.0    Decaf       689.0  \n",
      "4      Herbal Tea      809.0    Decaf       284.0  \n",
      "...           ...        ...      ...         ...  \n",
      "4224          Tea      458.0  Regular       124.0  \n",
      "4225          Tea      454.0  Regular       149.0  \n",
      "4226          Tea      506.0  Regular       236.0  \n",
      "4227          Tea      627.0  Regular       210.0  \n",
      "4228          Tea      513.0  Regular       252.0  \n",
      "\n",
      "[4229 rows x 11 columns]\n"
     ]
    }
   ],
   "source": [
    "hari=pd.read_csv(\"D:\\\\New_sales.csv\")\n",
    "print(hari)"
   ]
  },
  {
   "cell_type": "code",
   "execution_count": 6,
   "metadata": {},
   "outputs": [
    {
     "data": {
      "text/plain": [
       "Index(['Unnamed: 0', 'State', 'Total_Expenses', 'Sales', 'Profit', 'Market',\n",
       "       'Trade', 'Product_Type', 'Inventory', 'Type', 'New_Column'],\n",
       "      dtype='object')"
      ]
     },
     "execution_count": 6,
     "metadata": {},
     "output_type": "execute_result"
    }
   ],
   "source": [
    "hari.columns"
   ]
  },
  {
   "cell_type": "code",
   "execution_count": 12,
   "metadata": {},
   "outputs": [
    {
     "name": "stdout",
     "output_type": "stream",
     "text": [
      "   Unnamed: 0       State  Total_Expenses  Sales  Profit Market  Trade  \\\n",
      "1           1  California            55.0  201.0    88.0   West     24   \n",
      "2           2  California           700.0  289.0    25.0   West    109   \n",
      "3           3  California           113.0  576.0   216.0   West     81   \n",
      "\n",
      "  Product_Type  Inventory     Type  New_Column  \n",
      "1          Tea      659.0  Regular       256.0  \n",
      "2     Espresso      788.0  Regular       989.0  \n",
      "3     Espresso     1744.0    Decaf       689.0  \n"
     ]
    }
   ],
   "source": [
    "h=hari.iloc[[1,2,3]]\n",
    "print(h)"
   ]
  },
  {
   "cell_type": "code",
   "execution_count": 21,
   "metadata": {},
   "outputs": [
    {
     "data": {
      "text/html": [
       "<div>\n",
       "<style scoped>\n",
       "    .dataframe tbody tr th:only-of-type {\n",
       "        vertical-align: middle;\n",
       "    }\n",
       "\n",
       "    .dataframe tbody tr th {\n",
       "        vertical-align: top;\n",
       "    }\n",
       "\n",
       "    .dataframe thead th {\n",
       "        text-align: right;\n",
       "    }\n",
       "</style>\n",
       "<table border=\"1\" class=\"dataframe\">\n",
       "  <thead>\n",
       "    <tr style=\"text-align: right;\">\n",
       "      <th></th>\n",
       "      <th>New_Column</th>\n",
       "      <th>Sales</th>\n",
       "      <th>Market</th>\n",
       "    </tr>\n",
       "  </thead>\n",
       "  <tbody>\n",
       "    <tr>\n",
       "      <th>1</th>\n",
       "      <td>256.0</td>\n",
       "      <td>201.0</td>\n",
       "      <td>West</td>\n",
       "    </tr>\n",
       "    <tr>\n",
       "      <th>2</th>\n",
       "      <td>989.0</td>\n",
       "      <td>289.0</td>\n",
       "      <td>West</td>\n",
       "    </tr>\n",
       "    <tr>\n",
       "      <th>3</th>\n",
       "      <td>689.0</td>\n",
       "      <td>576.0</td>\n",
       "      <td>West</td>\n",
       "    </tr>\n",
       "    <tr>\n",
       "      <th>4</th>\n",
       "      <td>284.0</td>\n",
       "      <td>247.0</td>\n",
       "      <td>West</td>\n",
       "    </tr>\n",
       "    <tr>\n",
       "      <th>5</th>\n",
       "      <td>681.0</td>\n",
       "      <td>582.0</td>\n",
       "      <td>West</td>\n",
       "    </tr>\n",
       "    <tr>\n",
       "      <th>...</th>\n",
       "      <td>...</td>\n",
       "      <td>...</td>\n",
       "      <td>...</td>\n",
       "    </tr>\n",
       "    <tr>\n",
       "      <th>4201</th>\n",
       "      <td>453.0</td>\n",
       "      <td>314.0</td>\n",
       "      <td>Central</td>\n",
       "    </tr>\n",
       "    <tr>\n",
       "      <th>4202</th>\n",
       "      <td>270.0</td>\n",
       "      <td>212.0</td>\n",
       "      <td>Central</td>\n",
       "    </tr>\n",
       "    <tr>\n",
       "      <th>4203</th>\n",
       "      <td>286.0</td>\n",
       "      <td>227.0</td>\n",
       "      <td>Central</td>\n",
       "    </tr>\n",
       "    <tr>\n",
       "      <th>4204</th>\n",
       "      <td>270.0</td>\n",
       "      <td>215.0</td>\n",
       "      <td>Central</td>\n",
       "    </tr>\n",
       "    <tr>\n",
       "      <th>4206</th>\n",
       "      <td>279.0</td>\n",
       "      <td>226.0</td>\n",
       "      <td>Central</td>\n",
       "    </tr>\n",
       "  </tbody>\n",
       "</table>\n",
       "<p>1334 rows × 3 columns</p>\n",
       "</div>"
      ],
      "text/plain": [
       "      New_Column  Sales   Market\n",
       "1          256.0  201.0     West\n",
       "2          989.0  289.0     West\n",
       "3          689.0  576.0     West\n",
       "4          284.0  247.0     West\n",
       "5          681.0  582.0     West\n",
       "...          ...    ...      ...\n",
       "4201       453.0  314.0  Central\n",
       "4202       270.0  212.0  Central\n",
       "4203       286.0  227.0  Central\n",
       "4204       270.0  215.0  Central\n",
       "4206       279.0  226.0  Central\n",
       "\n",
       "[1334 rows x 3 columns]"
      ]
     },
     "execution_count": 21,
     "metadata": {},
     "output_type": "execute_result"
    }
   ],
   "source": [
    "hisales=(hari['Sales']> 200)\n",
    "hari.loc[hisales,[\"New_Column\",\"Sales\",\"Market\"]]"
   ]
  },
  {
   "cell_type": "code",
   "execution_count": null,
   "metadata": {},
   "outputs": [],
   "source": []
  }
 ],
 "metadata": {
  "kernelspec": {
   "display_name": "Python 3",
   "language": "python",
   "name": "python3"
  },
  "language_info": {
   "codemirror_mode": {
    "name": "ipython",
    "version": 3
   },
   "file_extension": ".py",
   "mimetype": "text/x-python",
   "name": "python",
   "nbconvert_exporter": "python",
   "pygments_lexer": "ipython3",
   "version": "3.10.6"
  },
  "orig_nbformat": 4
 },
 "nbformat": 4,
 "nbformat_minor": 2
}
